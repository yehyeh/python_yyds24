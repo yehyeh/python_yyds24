{
 "nbformat": 4,
 "nbformat_minor": 0,
 "metadata": {
  "colab": {
   "provenance": []
  },
  "kernelspec": {
   "name": "python3",
   "display_name": "Python 3"
  },
  "language_info": {
   "name": "python"
  }
 },
 "cells": [
  {
   "cell_type": "markdown",
   "source": [
    "## Yehonatan Yehudai\n",
    "\n",
    "# Final Exercise – Python (DS 2024)\n",
    "## Technion – Israel Institute of Technology"
   ],
   "metadata": {
    "id": "1bCwG9JbH4xD"
   }
  },
  {
   "cell_type": "markdown",
   "source": [
    "_____\n",
    "##In file **Iris.csv** :\n",
    "- first row is the header of the table (column names)\n",
    "- row from the second on, is an observation.\n",
    "- observation includes 4 features (you should ignore the ‘id’ column) and a label.\n",
    "- Denote the number of observations as 𝑛 and the number of features as 𝑑."
   ],
   "metadata": {
    "id": "yZz1anTvN7iv"
   }
  },
  {
   "cell_type": "markdown",
   "source": [
    "_____\n",
    "## 1. Write a class called **Dataset**, including the following class attributes and functions:"
   ],
   "metadata": {
    "id": "QvfKsQ0qed4d"
   }
  },
  {
   "cell_type": "markdown",
   "source": [
    "  • *data* – a numpy array of shape (𝑛, 𝑑)\n",
    "\n",
    "  • *labels* – a numpy array of size 𝑛\n",
    "\n",
    "  • *column_names* – a list of strings of size 𝑑.\n",
    "    Each entry 𝑖 in this list is the column name corresponding to the feature of index 𝑖.\n",
    "\n",
    "  - *\\_\\_init__*\n",
    "      - Receives: three arguments data, labels and column_names, all have a default value of None. The function should set the class attributes by the given values.\n",
    "\n",
    "  - *load_from_path*\n",
    "      - Receives: a path for the .csv file, and extracts from the csv the relevant class attributes (as described above). You may use csv, pandas, or any other module. This function overrides the current values in the class attributes.\n",
    "\n",
    "  - *\\_\\_len__*\n",
    "      - Receives: nothing.\n",
    "      - Returns: the number of observations in the dataset.\n",
    "\n",
    "  - *\\_\\_str__*\n",
    "      - do not receive any argument. Returns the following string: “A dataset object with ? observations, ? features and ? classes”.\n",
    "      - The ? should be filled in by 𝑛, 𝑑 and the number of unique labels respectively.\n",
    "\n",
    "  - *\\_\\_iter__*\n",
    "  - *\\_\\_next__*\n",
    "      - so that this object is iterable in the following way, for observation, label in dataset:\n",
    "      - An observation is a numpy array of size 𝑑, and a label is the corresponding label of this observation (a string).\n",
    "\n",
    "  - *filter_by_label*\n",
    "      - Receives: as an argument a string representing one of the labels in the dataset.\n",
    "      - Returns a Dataset object, containing only a subset of data that corresponds to the given label.\n",
    "      - In other words, given a label 𝑐, the function should return an object with the same column names, and only observations with the label 𝑐.\n",
    "      - If the label does not exist in the dataset, raise an exception of KeyError.\n",
    "\n",
    "  - *plot_scatter*\n",
    "      - Receives: as argument a path to which the plot will be saved (string), and a list of 2 indices.\n",
    "      - Returns nothing.\n",
    "      - The function should create a scatter plot of 2 features (their indices are given as argument). The color of each point should correspond to its label.(Note: saving a plot to path is done via plt.savefig(path))"
   ],
   "metadata": {
    "id": "viYBSfo1i06b"
   }
  },
  {
   "cell_type": "code",
   "source": [],
   "metadata": {
    "id": "FVI0MuO-H9Ew"
   },
   "execution_count": null,
   "outputs": []
  },
  {
   "cell_type": "markdown",
   "source": [],
   "metadata": {
    "id": "Y8UmMEQTenrP"
   }
  },
  {
   "cell_type": "markdown",
   "source": [
    "_____\n",
    "##2. Write a main script that do the following steps:\n",
    "1. Get as a terminal argument a path to the .csv file.\n",
    "  Note: that the path is an argument, and should not be hard-coded.\n",
    "\n",
    "2. Create an object named dataset of the class Dataset defined above and update the object’s attributes using the path to the .csv file.\n",
    "\n",
    "3. Print the following (each in different row):\n",
    "  - The shape of dataset.data\n",
    "  - Length of the object\n",
    "  - Print the object via print(dataset)\n",
    "\n",
    "4. Create a scatter plot of features [0, 3] and save it to ‘plot1.png’\n",
    "\n",
    "5. Run the following code:\n",
    "\n",
    "  ```\n",
    "  for i, (observation, label) in enumerate(dataset):\n",
    "    print(observation, label)\n",
    "    if i == 3:\n",
    "      break\n",
    "  ```\n",
    "\n",
    "6. Next, for every label in [‘Iris-Error’ , ‘Iris-setosa’] call the function ***filter_by_label***:\n",
    "  - If succeeds:\n",
    "     - print the object via print(sub_dataset) and also create a scatter plot of sub_dataset, and save it as f’plot_{label}.png’.\n",
    "  - If failed:\n",
    "       - print ‘no such label’."
   ],
   "metadata": {
    "id": "j7HAXClvRnpZ"
   }
  },
  {
   "cell_type": "code",
   "source": [],
   "metadata": {
    "id": "is5TSa7v7pAx"
   },
   "execution_count": null,
   "outputs": []
  }
 ]
}
